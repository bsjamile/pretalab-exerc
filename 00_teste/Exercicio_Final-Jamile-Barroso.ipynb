{
  "nbformat": 4,
  "nbformat_minor": 0,
  "metadata": {
    "colab": {
      "provenance": [],
      "authorship_tag": "ABX9TyO6J4GhBhnh13dBVmHrmeJn",
      "include_colab_link": true
    },
    "kernelspec": {
      "name": "python3",
      "display_name": "Python 3"
    },
    "language_info": {
      "name": "python"
    }
  },
  "cells": [
    {
      "cell_type": "markdown",
      "metadata": {
        "id": "view-in-github",
        "colab_type": "text"
      },
      "source": [
        "<a href=\"https://colab.research.google.com/github/bsjamile/pretalab-exerc/blob/main/Exercicio_Final-Jamile-Barroso.ipynb\" target=\"_parent\"><img src=\"https://colab.research.google.com/assets/colab-badge.svg\" alt=\"Open In Colab\"/></a>"
      ]
    },
    {
      "cell_type": "markdown",
      "source": [
        "# Contagem de Medalhas"
      ],
      "metadata": {
        "id": "4_CEpPrdu9qU"
      }
    },
    {
      "cell_type": "markdown",
      "source": [
        "Crie um programa que receba o número de medalhas de ouro, prata e bronze de um país nas Olimpíadas e calcule o total de medalhas.\n",
        "Quando escrever 'sair', o programa deverá encerrar e mostrar na tela o ranking de medalhas no formato:"
      ],
      "metadata": {
        "id": "ijQ8DqPEvBvn"
      }
    },
    {
      "cell_type": "code",
      "source": [
        "\n",
        "#Ranking de medalhas:\n",
        "#Brasil: 7 medalhas\n",
        "#França: 6 medalhas\n",
        "#Argentina: 3 medalhas\n",
        "\n",
        "\n",
        "# Resposta aqui"
      ],
      "metadata": {
        "id": "-uYRCxr_u4-y"
      },
      "execution_count": null,
      "outputs": []
    },
    {
      "cell_type": "code",
      "source": [
        "from operator import itemgetter\n",
        "resposta_min = ''\n",
        "paises_medalhas_total = dict()\n",
        "paises_medalhas = dict()\n",
        "\n",
        "try:\n",
        "  while resposta_min != 'Sair':\n",
        "    print('\\n---------- Ranking de medalhas ----------')\n",
        "    resposta = input('Digite um país ou digite sair: ')\n",
        "    resposta_min = resposta.capitalize()\n",
        "    if resposta_min != 'Sair':\n",
        "      medalhas_ouro = int(input('Medalhas de Ouro: '))\n",
        "      medalhas_prata = int(input('Medalhas de Prata: '))\n",
        "      medalhas_bronze = int(input('Medalhas de Bronze: '))\n",
        "\n",
        "      medalhas_total = medalhas_ouro + medalhas_prata + medalhas_bronze\n",
        "\n",
        "      paises_medalhas = {\n",
        "          resposta_min: medalhas_total\n",
        "      }\n",
        "\n",
        "      paises_medalhas_total.update(paises_medalhas)\n",
        "\n",
        "except:\n",
        "    'Digite valores válidos!'\n",
        "\n",
        "print('\\n---------- Ranking do Resultado ---------')\n",
        "for pais, medalhas_totais in sorted(paises_medalhas_total.items(), key=itemgetter(1),reverse=True):\n",
        "  print(f'{pais}: {medalhas_totais} medalhas')\n",
        "\n",
        "\n"
      ],
      "metadata": {
        "colab": {
          "base_uri": "https://localhost:8080/"
        },
        "id": "U2iaz3vjvbb1",
        "outputId": "0404cc0e-3d45-4385-fa19-a6aa129db723"
      },
      "execution_count": 64,
      "outputs": [
        {
          "output_type": "stream",
          "name": "stdout",
          "text": [
            "\n",
            "---------- Ranking de medalhas ----------\n",
            "Digite um país ou digite sair: brasil\n",
            "Medalhas de Ouro: 1\n",
            "Medalhas de Prata: 2\n",
            "Medalhas de Bronze: 3\n",
            "\n",
            "---------- Ranking de medalhas ----------\n",
            "Digite um país ou digite sair: argentina\n",
            "Medalhas de Ouro: 90\n",
            "Medalhas de Prata: 100\n",
            "Medalhas de Bronze: 20\n",
            "\n",
            "---------- Ranking de medalhas ----------\n",
            "Digite um país ou digite sair: italia\n",
            "Medalhas de Ouro: 100\n",
            "Medalhas de Prata: 300\n",
            "Medalhas de Bronze: 400\n",
            "\n",
            "---------- Ranking de medalhas ----------\n",
            "Digite um país ou digite sair: SAIR\n",
            "\n",
            "---------- Ranking do Resultado ---------\n",
            "Italia: 800 medalhas\n",
            "Argentina: 210 medalhas\n",
            "Brasil: 6 medalhas\n"
          ]
        }
      ]
    }
  ]
}