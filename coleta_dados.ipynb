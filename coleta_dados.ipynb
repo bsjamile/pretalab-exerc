{
  "nbformat": 4,
  "nbformat_minor": 0,
  "metadata": {
    "colab": {
      "provenance": [],
      "authorship_tag": "ABX9TyNWw6Oer4BaRAGlMCKe3Tdo",
      "include_colab_link": true
    },
    "kernelspec": {
      "name": "python3",
      "display_name": "Python 3"
    },
    "language_info": {
      "name": "python"
    }
  },
  "cells": [
    {
      "cell_type": "markdown",
      "metadata": {
        "id": "view-in-github",
        "colab_type": "text"
      },
      "source": [
        "<a href=\"https://colab.research.google.com/github/bsjamile/pretalab-exerc/blob/main/coleta_dados.ipynb\" target=\"_parent\"><img src=\"https://colab.research.google.com/assets/colab-badge.svg\" alt=\"Open In Colab\"/></a>"
      ]
    },
    {
      "cell_type": "code",
      "source": [
        "caminho_arq = \"/content/alunas.csv\""
      ],
      "metadata": {
        "id": "XJQUylRrKxS-"
      },
      "execution_count": null,
      "outputs": []
    },
    {
      "cell_type": "code",
      "source": [
        "arquivo = open(caminho_arq,\"r\")"
      ],
      "metadata": {
        "id": "I8pWxnVJKy3Y"
      },
      "execution_count": null,
      "outputs": []
    },
    {
      "cell_type": "code",
      "execution_count": null,
      "metadata": {
        "id": "C2xh_VGpKqcD"
      },
      "outputs": [],
      "source": [
        "with open('coleta_dados.py', 'w') as coletar_dados:\n",
        "    coletar_dados.write(\"\"\"\n",
        "import csv\n",
        "\n",
        "def ler_arquivo(arquivo):\n",
        "  arquivo.seek(0,0)\n",
        "  leitor_csv = csv.reader(arquivo,delimiter=';')\n",
        "\n",
        "  for linha in leitor_csv:\n",
        "    print(linha)\n",
        "\"\"\")"
      ]
    },
    {
      "cell_type": "code",
      "source": [
        "import coleta_dados"
      ],
      "metadata": {
        "id": "yVd_L7Z3K7zU"
      },
      "execution_count": null,
      "outputs": []
    },
    {
      "cell_type": "code",
      "source": [
        "coleta_dados.ler_arquivo(arquivo)"
      ],
      "metadata": {
        "colab": {
          "base_uri": "https://localhost:8080/"
        },
        "id": "mNegq4QjK_KI",
        "outputId": "b67e6314-b836-4b83-8363-3d65323c3a43"
      },
      "execution_count": null,
      "outputs": [
        {
          "output_type": "stream",
          "name": "stdout",
          "text": [
            "['Aluna', 'Idade', 'Status']\n",
            "['Jamile', '29', 'Empregada']\n",
            "['Sophia', '41', 'Desempregada']\n",
            "['Eliana', '26', 'Empregada']\n",
            "['Marcela', '25', 'Empregada']\n",
            "['Moana', '31', 'Desempregada']\n",
            "['Michele', '20', 'Desempregada']\n",
            "['Raquel', '33', 'Desempregada']\n"
          ]
        }
      ]
    },
    {
      "cell_type": "code",
      "source": [
        "with open('processamento_dados.py', 'w') as processa_dados:\n",
        "    processa_dados.write(\"\"\"\n",
        "import csv\n",
        "\n",
        "def calcular_porcentagem_status(arquivo):\n",
        "  arquivo.seek(0,0)\n",
        "  total_alunas,total_desempregadas = 0,0\n",
        "\n",
        "  leitor_csv = csv.reader(arquivo,delimiter=';')\n",
        "  cabecalho = next(leitor_csv)\n",
        "  indice_status = cabecalho.index('Status')\n",
        "\n",
        "  for linha in leitor_csv:\n",
        "    total_alunas += 1\n",
        "    if linha[indice_status] == 'Desempregada':\n",
        "      total_desempregadas += 1\n",
        "\n",
        "  percentual_desempregadas = round((total_desempregadas / total_alunas) * 100,2)\n",
        "  return f'O total de dempregadas é: {percentual_desempregadas}%'\n",
        "\n",
        "def calcular_media_idade(arquivo):\n",
        "  arquivo.seek(0,0)\n",
        "  total_alunas,total_desempregadas,i,total_idades=0,0,0,0\n",
        "\n",
        "  leitor_csv = csv.reader(arquivo,delimiter=';')\n",
        "\n",
        "  cabecalho = next(leitor_csv)\n",
        "  indice_idade = cabecalho.index('Idade')\n",
        "\n",
        "  for linha in leitor_csv:\n",
        "      total_alunas += 1\n",
        "      total_idades += int(linha[indice_idade])\n",
        "\n",
        "  media_idades = round(total_idades / total_alunas,2)\n",
        "  return f'A média das idades é: {media_idades} anos'\n",
        "\n",
        "\"\"\")"
      ],
      "metadata": {
        "id": "AETeWH8dLAjR"
      },
      "execution_count": null,
      "outputs": []
    },
    {
      "cell_type": "code",
      "source": [
        "import processamento_dados"
      ],
      "metadata": {
        "id": "OhHJXELCLFAN"
      },
      "execution_count": null,
      "outputs": []
    },
    {
      "cell_type": "code",
      "source": [
        "processamento_dados.calcular_porcentagem_status(arquivo)"
      ],
      "metadata": {
        "colab": {
          "base_uri": "https://localhost:8080/",
          "height": 36
        },
        "id": "sVwg6DgPLIlj",
        "outputId": "724afac5-1872-4e76-c468-4d0b0fa1e8ba"
      },
      "execution_count": null,
      "outputs": [
        {
          "output_type": "execute_result",
          "data": {
            "text/plain": [
              "'O total de dempregadas é: 57.14%'"
            ],
            "application/vnd.google.colaboratory.intrinsic+json": {
              "type": "string"
            }
          },
          "metadata": {},
          "execution_count": 69
        }
      ]
    },
    {
      "cell_type": "code",
      "source": [
        "processamento_dados.calcular_media_idade(arquivo)"
      ],
      "metadata": {
        "colab": {
          "base_uri": "https://localhost:8080/",
          "height": 36
        },
        "id": "IwUCXk2ULNnU",
        "outputId": "e581ebbf-c7c2-47c6-8d6a-216e08755944"
      },
      "execution_count": null,
      "outputs": [
        {
          "output_type": "execute_result",
          "data": {
            "text/plain": [
              "'A média das idades é: 29.29 anos'"
            ],
            "application/vnd.google.colaboratory.intrinsic+json": {
              "type": "string"
            }
          },
          "metadata": {},
          "execution_count": 70
        }
      ]
    },
    {
      "cell_type": "code",
      "source": [
        "with open('escrita_dado.py', 'w') as escrita_dados:\n",
        "    escrita_dados.write(\"\"\"\n",
        "import csv\n",
        "\n",
        "def escrever_dados(arquivo):\n",
        "  arquivo.seek(0,0)\n",
        "  leitor_csv = csv.reader(arquivo,delimiter=';')\n",
        "  cabecalho = next(leitor_csv)\n",
        "  filtro = []\n",
        "\n",
        "  for linha in leitor_csv:\n",
        "      nome, idade, status = linha[0], int(linha[1]), linha[2]  #idade int\n",
        "      if idade >= 25 and status == \"Desempregada\":\n",
        "        filtro.append(linha)\n",
        "\n",
        "  with open('alunas_maior_25_desempregada.csv', 'w', newline='', encoding='utf-8') as arq_saida:\n",
        "      escritor_csv = csv.writer(arq_saida)\n",
        "      escritor_csv.writerow(cabecalho)\n",
        "      escritor_csv.writerows(filtro)\n",
        "\n",
        "  print(\"Dados salvos em 'alunas_maior_25_desempregada.csv'.\")\n",
        "  \"\"\")"
      ],
      "metadata": {
        "id": "LCO8BLeSfQ6i"
      },
      "execution_count": null,
      "outputs": []
    },
    {
      "cell_type": "code",
      "source": [
        "import escrita_dado"
      ],
      "metadata": {
        "id": "8npq4TlFRGeZ"
      },
      "execution_count": null,
      "outputs": []
    },
    {
      "cell_type": "code",
      "source": [
        "escrita_dado.escrever_dados(arquivo)"
      ],
      "metadata": {
        "colab": {
          "base_uri": "https://localhost:8080/"
        },
        "id": "wy67frJtc8ju",
        "outputId": "ec5b4e87-5d2f-4695-83b9-94bd3bc68a04"
      },
      "execution_count": null,
      "outputs": [
        {
          "output_type": "stream",
          "name": "stdout",
          "text": [
            "Dados salvos em 'alunas_maior_25_desempregada.csv'.\n"
          ]
        }
      ]
    }
  ]
}