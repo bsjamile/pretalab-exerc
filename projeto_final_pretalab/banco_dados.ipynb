{
 "cells": [
  {
   "cell_type": "code",
   "execution_count": 5,
   "metadata": {},
   "outputs": [],
   "source": [
    "import sqlite3\n",
    "import csv\n"
   ]
  },
  {
   "cell_type": "code",
   "execution_count": 6,
   "metadata": {},
   "outputs": [
    {
     "name": "stdout",
     "output_type": "stream",
     "text": [
      "Banco de dados de infracoes criado com sucesso!\n"
     ]
    }
   ],
   "source": [
    "# Conectar ao banco de dados (ou criar um banco de dados)\n",
    "conn = sqlite3.connect('banco_dados/infracoes.db')\n",
    "cursor = conn.cursor()\n",
    "\n",
    "# Criar a tabela de infracoes\n",
    "create_table_infracoes_ba = ('''\n",
    "    CREATE TABLE IF NOT EXISTS infracoes_ba (\n",
    "        data_completa DATE,\n",
    "        mes TEXT,\n",
    "        municipio TEXT,\n",
    "        br_federal TEXT,\n",
    "        turno TEXT,\n",
    "        indicador_abordagem TEXT,\n",
    "        tipo_veiculo TEXT,\n",
    "        descricao_infracao TEXT,\n",
    "        medicao_infracao TEXT,\n",
    "        quantidade INT\n",
    "    )\n",
    "''')\n",
    "\n",
    "cursor.execute(create_table_infracoes_ba)\n",
    "\n",
    "# Salva as alterações no banco de dados\n",
    "conn.commit()\n",
    "\n",
    "print('Banco de dados de infracoes criado com sucesso!')\n",
    "\n",
    "# Fecha a conexão\n",
    "cursor.close()\n",
    "conn.close()"
   ]
  },
  {
   "cell_type": "code",
   "execution_count": null,
   "metadata": {},
   "outputs": [],
   "source": []
  },
  {
   "cell_type": "code",
   "execution_count": null,
   "metadata": {},
   "outputs": [],
   "source": [
    "\n",
    "# Conectar ao banco de dados (ou criar um banco de dados)\n",
    "conn = sqlite3.connect('banco_dados/infracoes.db')\n",
    "cursor = conn.cursor()\n",
    "\n",
    "with open('arquivos_csv/filmes.csv', newline='', encoding='utf-8') as csvfile:\n",
    "    leitor = csv.reader(csvfile)\n",
    "    next(leitor)  # Pula o cabeçalho\n",
    "    for linha in leitor:\n",
    "        insert_datas = '''INSERT INTO filmes (\n",
    "        data_completa,\n",
    "        mes,\n",
    "        municipio,\n",
    "        br_federal,\n",
    "        turno,\n",
    "        indicador_abordagem,\n",
    "        tipo_veiculo,\n",
    "        descricao_infracao,\n",
    "        medicao_infracao,\n",
    "        quantidade\n",
    "        ) VALUES (?, ?, ?, ?, ?, ?, ?, ?, ?, ?)'''\n",
    "        cursor.execute(insert_datas,(linha[0],linha[1],linha[2],linha[3],linha[4]))\n",
    "\n",
    "sql_query = (\"SELECT * FROM filmes\")\n",
    "\n",
    "cursor.execute(sql_query)\n",
    "dados = cursor.fetchall() #significa buscar todos os registros que foi selecionada pelo select\n",
    "\n",
    "# Salva as alterações no banco de dados\n",
    "conn.commit()\n",
    "\n",
    "print('Filmes importados para o banco de dados!')\n",
    "\n",
    "# Fecha a conexão\n",
    "cursor.close()\n",
    "conn.close()\n"
   ]
  }
 ],
 "metadata": {
  "kernelspec": {
   "display_name": "base",
   "language": "python",
   "name": "python3"
  },
  "language_info": {
   "codemirror_mode": {
    "name": "ipython",
    "version": 3
   },
   "file_extension": ".py",
   "mimetype": "text/x-python",
   "name": "python",
   "nbconvert_exporter": "python",
   "pygments_lexer": "ipython3",
   "version": "3.9.13"
  }
 },
 "nbformat": 4,
 "nbformat_minor": 2
}
